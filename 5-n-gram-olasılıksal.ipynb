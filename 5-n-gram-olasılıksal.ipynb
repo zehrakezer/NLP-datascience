{
 "cells": [
  {
   "cell_type": "code",
   "execution_count": 1,
   "metadata": {},
   "outputs": [
    {
     "data": {
      "text/plain": [
       "'\\nproblem tanımı yapalım:\\n    dil modeli yapmak istiyoruz\\n    amaç bir kelimeden sonra gelecke kelimeyi tahmin etmek: metin türetmek / oluşturmak\\n    bunun için n-grams kullanıcaz\\n\\n    ex: I.....(love)...... you\\n\\n'"
      ]
     },
     "execution_count": 1,
     "metadata": {},
     "output_type": "execute_result"
    }
   ],
   "source": [
    "#import libraries\n",
    "import nltk \n",
    "from nltk.util import ngrams #n-gram modeli oluşturmak için\n",
    "from nltk.tokenize import word_tokenize #tokenization\n",
    "\n",
    "from collections import Counter\n",
    "\n",
    "#örnek veri seti oluştur\n",
    "corpus = [\"I love apple\",\n",
    "          \"I love him\",\n",
    "          \"I love NLP\",\n",
    "          \"You love me\",\n",
    "          \"He loves apple\",\n",
    "          \"They love apple\",\n",
    "          \"I love you and you love me\"]\n",
    "\n",
    "\"\"\"\n",
    "problem tanımı yapalım:\n",
    "    dil modeli yapmak istiyoruz\n",
    "    amaç bir kelimeden sonra gelecke kelimeyi tahmin etmek: metin türetmek / oluşturmak\n",
    "    bunun için n-grams kullanıcaz\n",
    "\n",
    "    ex: I.....(love)......(apple)\n",
    "\n",
    "\"\"\"\n",
    "\n"
   ]
  },
  {
   "cell_type": "code",
   "execution_count": 2,
   "metadata": {},
   "outputs": [
    {
     "data": {
      "text/plain": [
       "Counter({('i', 'love'): 4,\n",
       "         ('love', 'apple'): 2,\n",
       "         ('you', 'love'): 2,\n",
       "         ('love', 'me'): 2,\n",
       "         ('love', 'him'): 1,\n",
       "         ('love', 'nlp'): 1,\n",
       "         ('he', 'loves'): 1,\n",
       "         ('loves', 'apple'): 1,\n",
       "         ('they', 'love'): 1,\n",
       "         ('love', 'you'): 1,\n",
       "         ('you', 'and'): 1,\n",
       "         ('and', 'you'): 1})"
      ]
     },
     "execution_count": 2,
     "metadata": {},
     "output_type": "execute_result"
    }
   ],
   "source": [
    "#verileri token haline getir\n",
    "tokens = [word_tokenize(sentence.lower()) for sentence in corpus]\n",
    "\n",
    "#bigram kelime gruplarını oluştur\n",
    "bigrams= []\n",
    "for token_list in tokens:\n",
    "    bigrams.extend(list(ngrams(token_list,2)))\n",
    "\n",
    "\n",
    "bigrams_freq = Counter(bigrams)\n",
    "bigrams_freq"
   ]
  },
  {
   "cell_type": "code",
   "execution_count": 3,
   "metadata": {},
   "outputs": [
    {
     "data": {
      "text/plain": [
       "Counter({('you', 'love', 'me'): 2,\n",
       "         ('i', 'love', 'apple'): 1,\n",
       "         ('i', 'love', 'him'): 1,\n",
       "         ('i', 'love', 'nlp'): 1,\n",
       "         ('he', 'loves', 'apple'): 1,\n",
       "         ('they', 'love', 'apple'): 1,\n",
       "         ('i', 'love', 'you'): 1,\n",
       "         ('love', 'you', 'and'): 1,\n",
       "         ('you', 'and', 'you'): 1,\n",
       "         ('and', 'you', 'love'): 1})"
      ]
     },
     "execution_count": 3,
     "metadata": {},
     "output_type": "execute_result"
    }
   ],
   "source": [
    "#trigram elime gruplarını oluştur\n",
    "trigrams= []\n",
    "for token_list in tokens:\n",
    "    trigrams.extend(list(ngrams(token_list,3)))\n",
    "\n",
    "\n",
    "trigrams_freq = Counter(trigrams)\n",
    "trigrams_freq"
   ]
  },
  {
   "cell_type": "code",
   "execution_count": 5,
   "metadata": {},
   "outputs": [
    {
     "name": "stdout",
     "output_type": "stream",
     "text": [
      "you kelimesinin olma olasılığı: 0.25\n"
     ]
    }
   ],
   "source": [
    "#model testing\n",
    "#\"I love\" bigramından sonra \"you\" ve \"apple\" kelimelerinin gelem olasılığını hesaplayalım\n",
    "\n",
    "bigram= (\"i\",\"love\") #hedef bigram\n",
    "\n",
    "#\"i love you \" olma olasılığı\n",
    "prob_you =trigrams_freq[(\"i\",\"love\",\"you\")] / bigrams_freq[bigram]\n",
    "print(f\"you kelimesinin olma olasılığı: {prob_you}\")"
   ]
  },
  {
   "cell_type": "code",
   "execution_count": 7,
   "metadata": {},
   "outputs": [
    {
     "name": "stdout",
     "output_type": "stream",
     "text": [
      "apple kelimesinin olma olasılığı: 0.25\n"
     ]
    }
   ],
   "source": [
    "#\"ı love apple \" olma olasılığı\n",
    "prob_apple =trigrams_freq[(\"i\",\"love\",\"apple\")] / bigrams_freq[bigram]\n",
    "print(f\"apple kelimesinin olma olasılığı: {prob_apple}\")"
   ]
  }
 ],
 "metadata": {
  "kernelspec": {
   "display_name": "Python 3",
   "language": "python",
   "name": "python3"
  },
  "language_info": {
   "codemirror_mode": {
    "name": "ipython",
    "version": 3
   },
   "file_extension": ".py",
   "mimetype": "text/x-python",
   "name": "python",
   "nbconvert_exporter": "python",
   "pygments_lexer": "ipython3",
   "version": "3.11.9"
  }
 },
 "nbformat": 4,
 "nbformat_minor": 2
}
