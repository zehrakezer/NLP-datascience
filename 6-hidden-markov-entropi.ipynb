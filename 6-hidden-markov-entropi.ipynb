{
 "cells": [
  {
   "cell_type": "code",
   "execution_count": 1,
   "metadata": {},
   "outputs": [],
   "source": [
    "\"\"\"\n",
    "Part of Speech POS: kelimelerin uygun sözcük türünü bulma çalışması\n",
    "HMM\n",
    "\n",
    "I(zamir) am a teacher (isim)\n",
    "\"\"\"\n",
    "\n",
    "#import libraries\n",
    "import nltk\n",
    "from nltk.tag import hmm\n",
    "\n",
    "#örnek trainin data tanımlama\n",
    "train_data = [[(\"I\",\"PRP\"),(\"am\",\"VBP\"),(\"a\",\"DT\"),(\"teacher\",\"NN\")],\n",
    "              [(\"You\", \"PRP\"),(\"are\", \"VBP\"),(\"a\",\"DT\"),(\"student\",\"NN\")]] #hazır tokenleştiriyoruz"
   ]
  },
  {
   "cell_type": "code",
   "execution_count": 4,
   "metadata": {},
   "outputs": [],
   "source": [
    "#train hmm\n",
    "trainer =hmm.HiddenMarkovModelTrainer()\n",
    "hmm_taggerr = trainer.train(train_data)"
   ]
  },
  {
   "cell_type": "code",
   "execution_count": 5,
   "metadata": {},
   "outputs": [
    {
     "name": "stderr",
     "output_type": "stream",
     "text": [
      "C:\\Users\\kezer\\AppData\\Local\\Packages\\PythonSoftwareFoundation.Python.3.11_qbz5n2kfra8p0\\LocalCache\\local-packages\\Python311\\site-packages\\nltk\\tag\\hmm.py:334: RuntimeWarning: overflow encountered in cast\n",
      "  X[i, j] = self._transitions[si].logprob(self._states[j])\n",
      "C:\\Users\\kezer\\AppData\\Local\\Packages\\PythonSoftwareFoundation.Python.3.11_qbz5n2kfra8p0\\LocalCache\\local-packages\\Python311\\site-packages\\nltk\\tag\\hmm.py:336: RuntimeWarning: overflow encountered in cast\n",
      "  O[i, k] = self._output_logprob(si, self._symbols[k])\n",
      "C:\\Users\\kezer\\AppData\\Local\\Packages\\PythonSoftwareFoundation.Python.3.11_qbz5n2kfra8p0\\LocalCache\\local-packages\\Python311\\site-packages\\nltk\\tag\\hmm.py:332: RuntimeWarning: overflow encountered in cast\n",
      "  P[i] = self._priors.logprob(si)\n"
     ]
    },
    {
     "data": {
      "text/plain": [
       "[('I', 'PRP'), ('am', 'VBP'), ('a', 'DT'), ('student', 'NN')]"
      ]
     },
     "execution_count": 5,
     "metadata": {},
     "output_type": "execute_result"
    }
   ],
   "source": [
    "#yeni bir cümle oluştur ve cümlenin içerisinde bulunann bir sözcüğün türünü etiketle\n",
    "test_sentence = \"I am a student\".split()\n",
    "\n",
    "tags = hmm_taggerr.tag(test_sentence)\n",
    "tags"
   ]
  },
  {
   "cell_type": "code",
   "execution_count": 6,
   "metadata": {},
   "outputs": [
    {
     "name": "stderr",
     "output_type": "stream",
     "text": [
      "C:\\Users\\kezer\\AppData\\Local\\Packages\\PythonSoftwareFoundation.Python.3.11_qbz5n2kfra8p0\\LocalCache\\local-packages\\Python311\\site-packages\\nltk\\tag\\hmm.py:364: RuntimeWarning: overflow encountered in cast\n",
      "  O[i, k] = self._output_logprob(si, self._symbols[k])\n"
     ]
    },
    {
     "data": {
      "text/plain": [
       "[('He', 'PRP'), ('is', 'PRP'), ('a', 'PRP'), ('driver', 'PRP')]"
      ]
     },
     "execution_count": 6,
     "metadata": {},
     "output_type": "execute_result"
    }
   ],
   "source": [
    "#yeni bir cümle oluştur ve cümlenin içerisinde bulunann bir sözcüğün türünü etiketle\n",
    "test_sentence = \"He is a driver\".split()\n",
    "\n",
    "tags = hmm_taggerr.tag(test_sentence)\n",
    "tags"
   ]
  },
  {
   "cell_type": "code",
   "execution_count": 7,
   "metadata": {},
   "outputs": [
    {
     "name": "stderr",
     "output_type": "stream",
     "text": [
      "[nltk_data] Downloading package conll2000 to\n",
      "[nltk_data]     C:\\Users\\kezer\\AppData\\Roaming\\nltk_data...\n",
      "[nltk_data]   Package conll2000 is already up-to-date!\n"
     ]
    }
   ],
   "source": [
    "#import libraries\n",
    "import nltk\n",
    "from nltk.tag import hmm\n",
    "from nltk.corpus import conll2000\n",
    "\n",
    "#gerekli veri setini içeriye aktar\n",
    "nltk.download(\"conll2000\")\n",
    "\n",
    "train_data = conll2000.tagged_sents(\"train.txt\")\n",
    "test_data = conll2000.tagged_sents(\"test.txt\")\n"
   ]
  },
  {
   "cell_type": "code",
   "execution_count": 8,
   "metadata": {},
   "outputs": [],
   "source": [
    "#train hmm\n",
    "trainer = hmm.HiddenMarkovModelTrainer()\n",
    "hmm_tagger = trainer.train(train_data)"
   ]
  },
  {
   "cell_type": "code",
   "execution_count": 9,
   "metadata": {},
   "outputs": [
    {
     "name": "stderr",
     "output_type": "stream",
     "text": [
      "C:\\Users\\kezer\\AppData\\Local\\Packages\\PythonSoftwareFoundation.Python.3.11_qbz5n2kfra8p0\\LocalCache\\local-packages\\Python311\\site-packages\\nltk\\tag\\hmm.py:334: RuntimeWarning: overflow encountered in cast\n",
      "  X[i, j] = self._transitions[si].logprob(self._states[j])\n",
      "C:\\Users\\kezer\\AppData\\Local\\Packages\\PythonSoftwareFoundation.Python.3.11_qbz5n2kfra8p0\\LocalCache\\local-packages\\Python311\\site-packages\\nltk\\tag\\hmm.py:336: RuntimeWarning: overflow encountered in cast\n",
      "  O[i, k] = self._output_logprob(si, self._symbols[k])\n",
      "C:\\Users\\kezer\\AppData\\Local\\Packages\\PythonSoftwareFoundation.Python.3.11_qbz5n2kfra8p0\\LocalCache\\local-packages\\Python311\\site-packages\\nltk\\tag\\hmm.py:332: RuntimeWarning: overflow encountered in cast\n",
      "  P[i] = self._priors.logprob(si)\n"
     ]
    },
    {
     "data": {
      "text/plain": [
       "[('I', 'PRP'),\n",
       " ('like', 'IN'),\n",
       " ('going', 'VBG'),\n",
       " ('to', 'TO'),\n",
       " ('school', 'NN')]"
      ]
     },
     "execution_count": 9,
     "metadata": {},
     "output_type": "execute_result"
    }
   ],
   "source": [
    "#yeni cümle ve test\n",
    "test_sentence = \"I like going to school\".split()\n",
    "tag = hmm_tagger.tag(test_sentence)\n",
    "tag"
   ]
  },
  {
   "cell_type": "markdown",
   "metadata": {},
   "source": [
    "ENTROPY MODEL"
   ]
  },
  {
   "cell_type": "code",
   "execution_count": null,
   "metadata": {},
   "outputs": [],
   "source": [
    "\"\"\"\n",
    "classification problem: duygu analizi -> olumlu veya olumsuz olarak sınıflandırma\n",
    "\n",
    "\"\"\"\n",
    "\n",
    "#import libraries\n",
    "\n",
    "from nltk.classify import MaxentClassifier\n",
    "\n",
    "#veri seti tanımlama\n",
    "train_data =  [\n",
    "    ({\"love\":True,\"amazing\":True,\"happy\":True,\"terrible\":False},\"positive\"),\n",
    "    ({\"hate\":True,\"terrible\":True},\"negative\"),\n",
    "    ({\"joy\":True,\"happy\":True,\"hate\":False},\"positive\"),\n",
    "    ({\"sad\":True,\"depressed\":True,\"love\":False},\"negative\")\n",
    "]\n"
   ]
  },
  {
   "cell_type": "code",
   "execution_count": 5,
   "metadata": {},
   "outputs": [
    {
     "name": "stdout",
     "output_type": "stream",
     "text": [
      "  ==> Training (10 iterations)\n",
      "\n",
      "      Iteration    Log Likelihood    Accuracy\n",
      "      ---------------------------------------\n",
      "             1          -0.69315        0.500\n",
      "             2          -0.40641        1.000\n",
      "             3          -0.28861        1.000\n",
      "             4          -0.22397        1.000\n",
      "             5          -0.18304        1.000\n",
      "             6          -0.15479        1.000\n",
      "             7          -0.13410        1.000\n",
      "             8          -0.11829        1.000\n",
      "             9          -0.10582        1.000\n",
      "         Final          -0.09573        1.000\n"
     ]
    },
    {
     "data": {
      "text/plain": [
       "<ConditionalExponentialClassifier: 2 labels, 11 features>"
      ]
     },
     "execution_count": 5,
     "metadata": {},
     "output_type": "execute_result"
    }
   ],
   "source": [
    "#train maximum entropy classifer\n",
    "classifier = MaxentClassifier.train(train_data, max_iter=10)\n",
    "classifier"
   ]
  },
  {
   "cell_type": "code",
   "execution_count": 8,
   "metadata": {},
   "outputs": [
    {
     "data": {
      "text/plain": [
       "'positive'"
      ]
     },
     "execution_count": 8,
     "metadata": {},
     "output_type": "execute_result"
    }
   ],
   "source": [
    "#yeni cümle ile test\n",
    "test_sentence= \"I do not love this movie\"\n",
    "features = {word: (word in test_sentence.lower().split()) for word in [\"love\",\"amazing\",\"terrible\",\"happy\",\"joy\",\"depressed\",\"sad\"]}\n",
    "\n",
    "label = classifier.classify(features)\n",
    "label"
   ]
  }
 ],
 "metadata": {
  "kernelspec": {
   "display_name": "Python 3",
   "language": "python",
   "name": "python3"
  },
  "language_info": {
   "codemirror_mode": {
    "name": "ipython",
    "version": 3
   },
   "file_extension": ".py",
   "mimetype": "text/x-python",
   "name": "python",
   "nbconvert_exporter": "python",
   "pygments_lexer": "ipython3",
   "version": "3.11.9"
  }
 },
 "nbformat": 4,
 "nbformat_minor": 2
}
