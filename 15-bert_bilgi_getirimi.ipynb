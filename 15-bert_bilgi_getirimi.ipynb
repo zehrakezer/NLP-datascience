{
 "cells": [
  {
   "cell_type": "code",
   "execution_count": 1,
   "metadata": {},
   "outputs": [],
   "source": [
    "#import librairy\n",
    "from transformers import BertTokenizer, BertModel\n",
    "\n",
    "import numpy as np\n",
    "from sklearn.metrics.pairwise import cosine_similarity"
   ]
  },
  {
   "cell_type": "code",
   "execution_count": 2,
   "metadata": {},
   "outputs": [],
   "source": [
    "#tokenizer ve model create\n",
    "model_name = \"bert-base-uncased\" #küçük boyutlu bert modeli\n",
    "\n",
    "tokenizer=BertTokenizer.from_pretrained(model_name) #tokenizer yükle\n",
    "model = BertModel.from_pretrained(model_name) #önceden eğitilmiş bert modeli\n",
    "\n"
   ]
  },
  {
   "cell_type": "code",
   "execution_count": 3,
   "metadata": {},
   "outputs": [],
   "source": [
    "#veri oluştur: karşılaştırılacak belgeleri ve sorgu cümlelerini oluşturalım\n",
    "documents = [\"Machine learning is a field of artifical intellligence\",\n",
    "            \"NLP invelves understanding human language\",\n",
    "            \"Artifical intelligence encomppasses machine learning and natural language pracessing(NLP)\",\n",
    "            \"Deep learning is a subset of machine learning\",\n",
    "            \"Data science combines statistics, and data analyssi and machine learnign\",\n",
    "            \"I go to shop\"]\n",
    "\n",
    "query= \"What is Machine learning?\"\n",
    "\n"
   ]
  },
  {
   "cell_type": "code",
   "execution_count": 4,
   "metadata": {},
   "outputs": [],
   "source": [
    "#bert ile bilgi getirimi\n",
    "def get_embedding(text):\n",
    "\n",
    "    #tokenization\n",
    "    inputs= tokenizer(text,return_tensors=\"pt\",truncation=True,padding=True)\n",
    "\n",
    "    #modeli çalıştır\n",
    "    outputs = model(**inputs)\n",
    "\n",
    "    #son gizili katman\n",
    "    last_hidden_state = outputs.last_hidden_state\n",
    "\n",
    "    #metin temsili oluştur\n",
    "    embedding = last_hidden_state.mean(dim=1)\n",
    "\n",
    "    #vektörü numpy olarak return et\n",
    "    return embedding.detach().numpy()\n"
   ]
  },
  {
   "cell_type": "code",
   "execution_count": 5,
   "metadata": {},
   "outputs": [],
   "source": [
    "#belgeler ve sorgu için embedding vektörlerini alalım\n",
    "doc_embeddings = np.vstack([get_embedding(doc) for doc in documents])\n",
    "query_embeddings = get_embedding(query)\n",
    "\n",
    "#kosinüs benzerliği ile belgeler arasında benzerliği hesaplayalım\n",
    "similarities = cosine_similarity(query_embeddings,doc_embeddings)\n"
   ]
  },
  {
   "cell_type": "code",
   "execution_count": 8,
   "metadata": {},
   "outputs": [
    {
     "name": "stdout",
     "output_type": "stream",
     "text": [
      "Document 1:0.7087249755859375\n",
      "Document 2:0.6017319560050964\n",
      "Document 3:0.6025555729866028\n",
      "Document 4:0.7297888994216919\n",
      "Document 5:0.6166831254959106\n",
      "Document 6:0.5108955502510071\n"
     ]
    }
   ],
   "source": [
    "#her belgeinn benzerlik skoru\n",
    "for i,score in enumerate(similarities[0]):\n",
    "    print(f\"Document {i+1}:{score}\")"
   ]
  },
  {
   "cell_type": "code",
   "execution_count": 9,
   "metadata": {},
   "outputs": [
    {
     "data": {
      "text/plain": [
       "3"
      ]
     },
     "execution_count": 9,
     "metadata": {},
     "output_type": "execute_result"
    }
   ],
   "source": [
    "most_similar_index = similarities.argmax()\n",
    "most_similar_index"
   ]
  }
 ],
 "metadata": {
  "kernelspec": {
   "display_name": "Python 3",
   "language": "python",
   "name": "python3"
  },
  "language_info": {
   "codemirror_mode": {
    "name": "ipython",
    "version": 3
   },
   "file_extension": ".py",
   "mimetype": "text/x-python",
   "name": "python",
   "nbconvert_exporter": "python",
   "pygments_lexer": "ipython3",
   "version": "3.11.9"
  }
 },
 "nbformat": 4,
 "nbformat_minor": 2
}
