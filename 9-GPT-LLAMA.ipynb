{
 "cells": [
  {
   "cell_type": "code",
   "execution_count": null,
   "metadata": {},
   "outputs": [],
   "source": [
    "\"\"\"\n",
    "metin üretimi\n",
    "\n",
    "gpt-2 metin üretimi çalışması\n",
    "\"\"\"\n",
    "\n",
    "# import libraries\n",
    "from transformers import  GPT2Tokenizer,GPT2LMHeadModel\n",
    "from transformers import TFGPT2LMHeadModel\n",
    "from transformers import AutoTokenizer, AutoModelForCasualLM #llama\n"
   ]
  },
  {
   "cell_type": "code",
   "execution_count": 20,
   "metadata": {},
   "outputs": [
    {
     "data": {
      "application/vnd.jupyter.widget-view+json": {
       "model_id": "6db97cc6af83453d8d7354b041f16912",
       "version_major": 2,
       "version_minor": 0
      },
      "text/plain": [
       "model.safetensors:   0%|          | 0.00/548M [00:00<?, ?B/s]"
      ]
     },
     "metadata": {},
     "output_type": "display_data"
    },
    {
     "name": "stdout",
     "output_type": "stream",
     "text": [
      "WARNING:tensorflow:From c:\\Users\\kezer\\AppData\\Local\\Programs\\Python\\Python311\\Lib\\site-packages\\tf_keras\\src\\backend.py:873: The name tf.get_default_graph is deprecated. Please use tf.compat.v1.get_default_graph instead.\n",
      "\n"
     ]
    },
    {
     "name": "stderr",
     "output_type": "stream",
     "text": [
      "c:\\Users\\kezer\\AppData\\Local\\Programs\\Python\\Python311\\Lib\\site-packages\\huggingface_hub\\file_download.py:140: UserWarning: `huggingface_hub` cache-system uses symlinks by default to efficiently store duplicated files but your machine does not support them in C:\\Users\\kezer\\.cache\\huggingface\\hub\\models--gpt2. Caching files will still work but in a degraded version that might require more space on your disk. This warning can be disabled by setting the `HF_HUB_DISABLE_SYMLINKS_WARNING` environment variable. For more details, see https://huggingface.co/docs/huggingface_hub/how-to-cache#limitations.\n",
      "To support symlinks on Windows, you either need to activate Developer Mode or to run Python as an administrator. In order to activate developer mode, see this article: https://docs.microsoft.com/en-us/windows/apps/get-started/enable-your-device-for-development\n",
      "  warnings.warn(message)\n",
      "All PyTorch model weights were used when initializing TFGPT2LMHeadModel.\n",
      "\n",
      "All the weights of TFGPT2LMHeadModel were initialized from the PyTorch model.\n",
      "If your task is similar to the task the model of the checkpoint was trained on, you can already use TFGPT2LMHeadModel for predictions without further training.\n"
     ]
    }
   ],
   "source": [
    "#modelin tanımlanması \n",
    "model_name = \"gpt2\"\n",
    "\n",
    "#tokenization ve model oluşturma\n",
    "tokenizer = GPT2Tokenizer.from_pretrained(model_name)\n",
    "\n",
    "model = TFGPT2LMHeadModel.from_pretrained(model_name)"
   ]
  },
  {
   "cell_type": "code",
   "execution_count": 22,
   "metadata": {},
   "outputs": [
    {
     "name": "stderr",
     "output_type": "stream",
     "text": [
      "The attention mask and the pad token id were not set. As a consequence, you may observe unexpected behavior. Please pass your input's `attention_mask` to obtain reliable results.\n",
      "Setting `pad_token_id` to `eos_token_id`:50256 for open-end generation.\n"
     ]
    },
    {
     "data": {
      "text/plain": [
       "'Afternoon, the police arrived at the scene and found the body of a'"
      ]
     },
     "execution_count": 22,
     "metadata": {},
     "output_type": "execute_result"
    }
   ],
   "source": [
    "#metin üretimi için gerekli olan başlangıç texti\n",
    "text = \"Afternoon\"\n",
    "\n",
    "#tokenization\n",
    "inputs =tokenizer.encode(text,return_tensors = \"tf\")\n",
    "\n",
    "#metin üretimi gerçekleştirelim\n",
    "outputs= model.generate(inputs,max_length=15) #inputs =modelin başlangıç noktası , max_length maximum token(cümle) sayısı\n",
    "\n",
    "#modelin ürettiği tokenları okunabilir hale getirmmemiz lazım\n",
    "generated_text= tokenizer.decode(outputs[0],skip_special_tokens= True) #özel tokenları(cümle başlangı. ve bitiş tokenları ) metinden çıakr\n",
    "\n",
    "#üretilen metni print ettirelerim\n",
    "generated_text\n"
   ]
  },
  {
   "cell_type": "markdown",
   "metadata": {},
   "source": [
    "LLAMA"
   ]
  },
  {
   "cell_type": "code",
   "execution_count": null,
   "metadata": {},
   "outputs": [],
   "source": [
    "#modelin tanımlanması: llama \n",
    "model_name = \"huggyllama/llama-7b\"\n",
    "\n",
    "#tokenization ve model oluşturma\n",
    "tokenizer_llama = AutoTokenizer.from_pretrained(model_name)\n",
    "\n",
    "model_llama = AutoModelForCasualLM.from_pretrained(model_name)"
   ]
  },
  {
   "cell_type": "code",
   "execution_count": null,
   "metadata": {},
   "outputs": [],
   "source": [
    "#metin üretimi için gerekli olan başlangıç texti\n",
    "text = \"Afternoon\"\n",
    "\n",
    "#tokenization\n",
    "inputs =tokenizer_llama.encode(text,return_tensors = \"pt\")\n",
    "\n",
    "#metin üretimi gerçekleştirelim\n",
    "outputs_llama = model_llama.generate(inputs.inputs_id,max_length=15) #inputs =modelin başlangıç noktası , max_length maximum token(cümle) sayısı\n",
    "\n",
    "#modelin ürettiği tokenları okunabilir hale getirmmemiz lazım\n",
    "generated_text_llama = tokenizer_llama.decode(outputs_llama[0],skip_special_tokens= True) #özel tokenları(cümle başlangı. ve bitiş tokenları ) metinden çıakr\n",
    "\n",
    "#üretilen metni print ettirelerim\n",
    "generated_text_llama\n"
   ]
  }
 ],
 "metadata": {
  "kernelspec": {
   "display_name": "Python 3",
   "language": "python",
   "name": "python3"
  },
  "language_info": {
   "codemirror_mode": {
    "name": "ipython",
    "version": 3
   },
   "file_extension": ".py",
   "mimetype": "text/x-python",
   "name": "python",
   "nbconvert_exporter": "python",
   "pygments_lexer": "ipython3",
   "version": "3.11.0"
  }
 },
 "nbformat": 4,
 "nbformat_minor": 2
}
