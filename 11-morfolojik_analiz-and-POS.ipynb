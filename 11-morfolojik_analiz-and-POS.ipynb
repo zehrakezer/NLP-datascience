{
 "cells": [
  {
   "cell_type": "code",
   "execution_count": 1,
   "metadata": {},
   "outputs": [
    {
     "name": "stdout",
     "output_type": "stream",
     "text": [
      "WARNING:tensorflow:From C:\\Users\\kezer\\AppData\\Local\\Packages\\PythonSoftwareFoundation.Python.3.11_qbz5n2kfra8p0\\LocalCache\\local-packages\\Python311\\site-packages\\keras\\src\\losses.py:2940: The name tf.losses.sparse_softmax_cross_entropy is deprecated. Please use tf.compat.v1.losses.sparse_softmax_cross_entropy instead.\n",
      "\n"
     ]
    }
   ],
   "source": [
    "import spacy\n",
    "\n",
    "nlp= spacy.load(\"en_core_web_sm\")"
   ]
  },
  {
   "cell_type": "code",
   "execution_count": 11,
   "metadata": {},
   "outputs": [
    {
     "name": "stdout",
     "output_type": "stream",
     "text": [
      "Text: I\n",
      "Lemma: I\n",
      "POS: PRON\n",
      "Tag: PRP\n",
      "Dependencies: nsubj\n",
      "Shape: X\n",
      "Is alpha: True\n",
      "Is Stop: True\n",
      "Morfolojik: Case=Nom|Number=Sing|Person=1|PronType=Prs\n",
      "Is plural: False\n",
      "\n",
      "Text: am\n",
      "Lemma: be\n",
      "POS: AUX\n",
      "Tag: VBP\n",
      "Dependencies: ROOT\n",
      "Shape: xx\n",
      "Is alpha: True\n",
      "Is Stop: True\n",
      "Morfolojik: Mood=Ind|Number=Sing|Person=1|Tense=Pres|VerbForm=Fin\n",
      "Is plural: False\n",
      "\n",
      "Text: schools\n",
      "Lemma: school\n",
      "POS: NOUN\n",
      "Tag: NNS\n",
      "Dependencies: attr\n",
      "Shape: xxxx\n",
      "Is alpha: True\n",
      "Is Stop: False\n",
      "Morfolojik: Number=Plur\n",
      "Is plural: True\n",
      "\n"
     ]
    }
   ],
   "source": [
    "#incelencek olan kelime ve kelimeler\n",
    "word= \"I am schools\"\n",
    "\n",
    "#kelimeyi nlp işleminden geçirelim\n",
    "doc= nlp(word)\n",
    "\n",
    "for token in doc:\n",
    "    print(f\"Text: {token.text}\") #kelimenin kendisi\n",
    "    print(f\"Lemma: {token.lemma_}\") #kelimenin kök hali\n",
    "    print(f\"POS: {token.pos_}\")  #kelimenindil bilgisel özelliği\n",
    "    print(f\"Tag: {token.tag_}\")  #kelimenin detaylı dilbisel özelliği\n",
    "    print(f\"Dependencies: {token.dep_}\") #kelimenin rolü \n",
    "    print(f\"Shape: {token.shape_}\") #karakter yapısı\n",
    "    print(f\"Is alpha: {token.is_alpha}\")  #kelimenin yalnızca alfabetik karakterden oluşup oluşmadığını kontrol eder\n",
    "    print(f\"Is Stop: {token.is_stop}\") #kelimenin stopwords olup olmadığını kontrol eder\n",
    "    print(f\"Morfolojik: {token.morph}\")  #kelimenin morfolojik özelliklerini verir\n",
    "    print(f\"Is plural: {'Number=Plur' in token.morph}\")  #kelimenin çoğul oluğ olmadığı\n",
    "\n",
    "    print()"
   ]
  },
  {
   "cell_type": "markdown",
   "metadata": {},
   "source": [
    "Metin parçası etiketleme"
   ]
  },
  {
   "cell_type": "code",
   "execution_count": 12,
   "metadata": {},
   "outputs": [],
   "source": [
    "import spacy\n",
    "\n",
    "nlp= spacy.load(\"en_core_web_sm\")"
   ]
  },
  {
   "cell_type": "code",
   "execution_count": 13,
   "metadata": {},
   "outputs": [
    {
     "name": "stdout",
     "output_type": "stream",
     "text": [
      "What PRON\n",
      "is AUX\n",
      "the DET\n",
      "weather NOUN\n",
      "like ADP\n",
      "today NOUN\n",
      "or CCONJ\n",
      "tomorrow NOUN\n",
      "? PUNCT\n"
     ]
    }
   ],
   "source": [
    "sentence1 = \"What is the weather like today or tomorrow?\"\n",
    "\n",
    "doc1= nlp(sentence1)\n",
    "\n",
    "for token in doc1:\n",
    "    print(token.text, token.pos_)"
   ]
  }
 ],
 "metadata": {
  "kernelspec": {
   "display_name": "Python 3",
   "language": "python",
   "name": "python3"
  },
  "language_info": {
   "codemirror_mode": {
    "name": "ipython",
    "version": 3
   },
   "file_extension": ".py",
   "mimetype": "text/x-python",
   "name": "python",
   "nbconvert_exporter": "python",
   "pygments_lexer": "ipython3",
   "version": "3.11.9"
  }
 },
 "nbformat": 4,
 "nbformat_minor": 2
}
