{
 "cells": [
  {
   "cell_type": "code",
   "execution_count": 2,
   "metadata": {},
   "outputs": [
    {
     "name": "stderr",
     "output_type": "stream",
     "text": [
      "[nltk_data] Downloading package wordnet to\n",
      "[nltk_data]     C:\\Users\\kezer\\AppData\\Roaming\\nltk_data...\n",
      "[nltk_data]   Package wordnet is already up-to-date!\n",
      "[nltk_data] Error loading own-1.4: Package 'own-1.4' not found in\n",
      "[nltk_data]     index\n",
      "[nltk_data] Downloading package punkt to\n",
      "[nltk_data]     C:\\Users\\kezer\\AppData\\Roaming\\nltk_data...\n",
      "[nltk_data]   Package punkt is already up-to-date!\n"
     ]
    },
    {
     "data": {
      "text/plain": [
       "True"
      ]
     },
     "execution_count": 2,
     "metadata": {},
     "output_type": "execute_result"
    }
   ],
   "source": [
    "import nltk\n",
    "from nltk.wsd import lesk\n",
    "\n",
    "#gerekli nltk paketlerini indir\n",
    "nltk.download(\"wordnet\")\n",
    "nltk.download(\"own-1.4\")\n",
    "nltk.download(\"punkt\")\n"
   ]
  },
  {
   "cell_type": "code",
   "execution_count": 5,
   "metadata": {},
   "outputs": [
    {
     "name": "stdout",
     "output_type": "stream",
     "text": [
      "Cümle:I go to the bank to the deposit money\n",
      "Word:bank\n",
      "Sense:a container (usually with a slot in the top) for keeping money at home\n"
     ]
    }
   ],
   "source": [
    "#ilk cümle\n",
    "s1 = \"I go to the bank to the deposit money\"\n",
    "w1 =\"bank\"\n",
    "\n",
    "sense1= lesk(nltk.word_tokenize(s1),w1)\n",
    "print(f\"Cümle:{s1}\")\n",
    "print(f\"Word:{w1}\")\n",
    "print(f\"Sense:{sense1.definition()}\")\n"
   ]
  },
  {
   "cell_type": "code",
   "execution_count": 6,
   "metadata": {},
   "outputs": [
    {
     "name": "stdout",
     "output_type": "stream",
     "text": [
      "Cümle:The river bank is flowed after the heavy rain \n",
      "Word:bank\n",
      "Sense:a slope in the turn of a road or track; the outside is higher than the inside in order to reduce the effects of centrifugal force\n"
     ]
    }
   ],
   "source": [
    "#ikinci cümle\n",
    "s2 = \"The river bank is flowed after the heavy rain \"\n",
    "w2 =\"bank\"\n",
    "\n",
    "sense2= lesk(nltk.word_tokenize(s2),w2)\n",
    "print(f\"Cümle:{s2}\")\n",
    "print(f\"Word:{w2}\")\n",
    "print(f\"Sense:{sense2.definition()}\")\n"
   ]
  },
  {
   "cell_type": "markdown",
   "metadata": {},
   "source": [
    "KELİME ANLAMI BELİRSİZLİĞİ 2"
   ]
  },
  {
   "cell_type": "code",
   "execution_count": 9,
   "metadata": {},
   "outputs": [
    {
     "name": "stderr",
     "output_type": "stream",
     "text": [
      "took 3.683804512023926 secs.\n"
     ]
    }
   ],
   "source": [
    "from pywsd.lesk import simple_lesk, adapted_lesk,cosine_lesk"
   ]
  },
  {
   "cell_type": "code",
   "execution_count": 10,
   "metadata": {},
   "outputs": [
    {
     "name": "stdout",
     "output_type": "stream",
     "text": [
      "Sentence: I go to the bank to the deposited money\n",
      "Sense simple: a financial institution that accepts deposits and channels the money into lending activities\n",
      "Adapted simple: a financial institution that accepts deposits and channels the money into lending activities\n",
      "Cosine simple: a container (usually with a slot in the top) for keeping money at home\n",
      "Sentence: The river bank is flowed after the heavy rain \n",
      "Sense simple: sloping land (especially the slope beside a body of water)\n",
      "Adapted simple: sloping land (especially the slope beside a body of water)\n",
      "Cosine simple: a supply or stock held in reserve for future use (especially in emergencies)\n"
     ]
    }
   ],
   "source": [
    "#örnek cümle\n",
    "sentences = [\n",
    "    \"I go to the bank to the deposited money\",\n",
    "    \"The river bank is flowed after the heavy rain \"\n",
    "]\n",
    "\n",
    "word=\"bank\"\n",
    "\n",
    "for s in sentences:\n",
    "    print(f\"Sentence: {s}\")\n",
    "    sense_simple_lesk = simple_lesk(s,word)\n",
    "    print(f\"Sense simple: {sense_simple_lesk.definition()}\")\n",
    "\n",
    "    sense_adapted_lesk = adapted_lesk(s,word)\n",
    "    print(f\"Adapted simple: {sense_adapted_lesk.definition()}\")\n",
    "\n",
    "    sense_cosine_lesk = cosine_lesk(s,word)\n",
    "    print(f\"Cosine simple: {sense_cosine_lesk.definition()}\")"
   ]
  }
 ],
 "metadata": {
  "kernelspec": {
   "display_name": "Python 3",
   "language": "python",
   "name": "python3"
  },
  "language_info": {
   "codemirror_mode": {
    "name": "ipython",
    "version": 3
   },
   "file_extension": ".py",
   "mimetype": "text/x-python",
   "name": "python",
   "nbconvert_exporter": "python",
   "pygments_lexer": "ipython3",
   "version": "3.11.9"
  }
 },
 "nbformat": 4,
 "nbformat_minor": 2
}
