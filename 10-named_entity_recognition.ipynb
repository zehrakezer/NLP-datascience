{
 "cells": [
  {
   "cell_type": "code",
   "execution_count": 1,
   "metadata": {},
   "outputs": [
    {
     "name": "stdout",
     "output_type": "stream",
     "text": [
      "WARNING:tensorflow:From C:\\Users\\kezer\\AppData\\Local\\Packages\\PythonSoftwareFoundation.Python.3.11_qbz5n2kfra8p0\\LocalCache\\local-packages\\Python311\\site-packages\\keras\\src\\losses.py:2940: The name tf.losses.sparse_softmax_cross_entropy is deprecated. Please use tf.compat.v1.losses.sparse_softmax_cross_entropy instead.\n",
      "\n"
     ]
    }
   ],
   "source": [
    "\"\"\"\n",
    "varlık ismi tanıma: metin(cümle) -> metin içerisinde bulunan isimleri tanımla\n",
    "\"\"\"\n",
    "\n",
    "#import libraries\n",
    "import pandas as pd\n",
    "import spacy \n",
    "\n",
    "#spacy modeli ile varlık ismi tanımla\n",
    "nlp = spacy.load(\"en_core_web_sm\") #spacy kütüphanesi ingilizce dil modeli\n"
   ]
  },
  {
   "cell_type": "code",
   "execution_count": 2,
   "metadata": {},
   "outputs": [
    {
     "name": "stdout",
     "output_type": "stream",
     "text": [
      "Alice 0 5 PERSON\n",
      "Amazon 15 21 ORG\n",
      "London 36 42 GPE\n",
      "The British Museum 56 74 ORG\n",
      "last weekend 75 87 DATE\n"
     ]
    }
   ],
   "source": [
    "content = \"Alice works at Amazon  and lived in London. She visited The British Museum last weekend\"\n",
    "\n",
    "doc=nlp(content) #bu işlem metindeki varlılları (entities) analiz eder \n",
    "\n",
    "for ent in doc.ents:\n",
    "    #ent.text: varlık ismi \n",
    "    #ent.start_char and ent.end_char: varlığın metindeki başlangıç ve bitiş karakterleri\n",
    "    #ent.label_:varrlık türü\n",
    "    print(ent.text,ent.start_char,ent.end_char,ent.label_)"
   ]
  },
  {
   "cell_type": "code",
   "execution_count": 3,
   "metadata": {},
   "outputs": [
    {
     "data": {
      "text/plain": [
       "[('Alice', 'PERSON', 'Alice'),\n",
       " ('Amazon', 'ORG', 'Amazon'),\n",
       " ('London', 'GPE', 'London'),\n",
       " ('The British Museum', 'ORG', 'the British Museum'),\n",
       " ('last weekend', 'DATE', 'last weekend')]"
      ]
     },
     "execution_count": 3,
     "metadata": {},
     "output_type": "execute_result"
    }
   ],
   "source": [
    "#varlığın kök hali\n",
    "entities = [(ent.text,ent.label_, ent.lemma_) for ent in doc.ents]\n",
    "entities"
   ]
  },
  {
   "cell_type": "code",
   "execution_count": 4,
   "metadata": {},
   "outputs": [
    {
     "data": {
      "text/html": [
       "<div>\n",
       "<style scoped>\n",
       "    .dataframe tbody tr th:only-of-type {\n",
       "        vertical-align: middle;\n",
       "    }\n",
       "\n",
       "    .dataframe tbody tr th {\n",
       "        vertical-align: top;\n",
       "    }\n",
       "\n",
       "    .dataframe thead th {\n",
       "        text-align: right;\n",
       "    }\n",
       "</style>\n",
       "<table border=\"1\" class=\"dataframe\">\n",
       "  <thead>\n",
       "    <tr style=\"text-align: right;\">\n",
       "      <th></th>\n",
       "      <th>text</th>\n",
       "      <th>type</th>\n",
       "      <th>lemma</th>\n",
       "    </tr>\n",
       "  </thead>\n",
       "  <tbody>\n",
       "    <tr>\n",
       "      <th>0</th>\n",
       "      <td>Alice</td>\n",
       "      <td>PERSON</td>\n",
       "      <td>Alice</td>\n",
       "    </tr>\n",
       "    <tr>\n",
       "      <th>1</th>\n",
       "      <td>Amazon</td>\n",
       "      <td>ORG</td>\n",
       "      <td>Amazon</td>\n",
       "    </tr>\n",
       "    <tr>\n",
       "      <th>2</th>\n",
       "      <td>London</td>\n",
       "      <td>GPE</td>\n",
       "      <td>London</td>\n",
       "    </tr>\n",
       "    <tr>\n",
       "      <th>3</th>\n",
       "      <td>The British Museum</td>\n",
       "      <td>ORG</td>\n",
       "      <td>the British Museum</td>\n",
       "    </tr>\n",
       "    <tr>\n",
       "      <th>4</th>\n",
       "      <td>last weekend</td>\n",
       "      <td>DATE</td>\n",
       "      <td>last weekend</td>\n",
       "    </tr>\n",
       "  </tbody>\n",
       "</table>\n",
       "</div>"
      ],
      "text/plain": [
       "                 text    type               lemma\n",
       "0               Alice  PERSON               Alice\n",
       "1              Amazon     ORG              Amazon\n",
       "2              London     GPE              London\n",
       "3  The British Museum     ORG  the British Museum\n",
       "4        last weekend    DATE        last weekend"
      ]
     },
     "execution_count": 4,
     "metadata": {},
     "output_type": "execute_result"
    }
   ],
   "source": [
    "#varlık listesini pandas dataframe çevirme\n",
    "df = pd.DataFrame(entities,columns=[\"text\",\"type\",\"lemma\"])\n",
    "df"
   ]
  }
 ],
 "metadata": {
  "kernelspec": {
   "display_name": "Python 3",
   "language": "python",
   "name": "python3"
  },
  "language_info": {
   "codemirror_mode": {
    "name": "ipython",
    "version": 3
   },
   "file_extension": ".py",
   "mimetype": "text/x-python",
   "name": "python",
   "nbconvert_exporter": "python",
   "pygments_lexer": "ipython3",
   "version": "3.11.9"
  }
 },
 "nbformat": 4,
 "nbformat_minor": 2
}
