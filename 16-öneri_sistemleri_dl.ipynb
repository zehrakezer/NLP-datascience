{
 "cells": [
  {
   "cell_type": "code",
   "execution_count": 2,
   "metadata": {},
   "outputs": [],
   "source": [
    "\"\"\"\n",
    "    problem tanımı: Öneri sistemleri\n",
    "    user(kullanıcı) - item(ürünler) - rating(puanlar)\n",
    "\"\"\"\n",
    "\n",
    "#import libraries\n",
    "import numpy as np\n",
    "\n",
    "from tensorflow.keras.models import Model\n",
    "from tensorflow.keras.layers import Input,Embedding,Flatten,Dot,Dense\n",
    "from tensorflow.keras.optimizers import Adam\n",
    "\n",
    "from sklearn.model_selection import train_test_split\n",
    "\n",
    "import warnings\n",
    "warnings.filterwarnings(\"ignore\")"
   ]
  },
  {
   "cell_type": "code",
   "execution_count": 4,
   "metadata": {},
   "outputs": [],
   "source": [
    "#veri setini oluşturalım\n",
    "user_ids = np.array([0,1,2,3,4,0,1,2,3,4])\n",
    "items_id = np.array([0,1,2,3,4,1,2,3,4,5])\n",
    "ratings = np.array([5,4,3,2,1,4,3,2,1,5])\n",
    "\n",
    "#train -test split\n",
    "user_ids_train,user_ids_test, items_id_train,_items_id_test,ratings_train,ratings_test = train_test_split(user_ids,items_id,ratings,test_size=0.2,random_state=42)"
   ]
  },
  {
   "cell_type": "code",
   "execution_count": 18,
   "metadata": {},
   "outputs": [],
   "source": [
    "#create neural network\n",
    "def create_model(num_users,num_items,embedding_dim):\n",
    "\n",
    "     # Kullanıcı ve öğe ID giriş tensorleri\n",
    "    user_input = Input(shape=(1,), name=\"user_input\")\n",
    "    item_input = Input(shape=(1,), name=\"item_input\")\n",
    "    \n",
    "    # Embedding katmanları\n",
    "    user_embedding = Embedding(input_dim=num_users, output_dim=embedding_dim, name=\"user_embedding\")(user_input)\n",
    "    item_embedding = Embedding(input_dim=num_items, output_dim=embedding_dim, name=\"item_embedding\")(item_input)\n",
    "    \n",
    "    # Vektörleri düzleştir\n",
    "    user_vecs = Flatten()(user_embedding)\n",
    "    item_vecs = Flatten()(item_embedding)\n",
    "\n",
    "     # Nokta çarpımı\n",
    "    dot_product = Dot(axes=1)([user_vecs, item_vecs])\n",
    "    \n",
    "    # Model oluştur\n",
    "    model = Model(inputs=[user_input, item_input], outputs=dot_product)\n",
    "    model.compile(optimizer='adam', loss='mean_squared_error')\n",
    "    \n",
    "    return model\n"
   ]
  },
  {
   "cell_type": "code",
   "execution_count": 17,
   "metadata": {},
   "outputs": [
    {
     "name": "stdout",
     "output_type": "stream",
     "text": [
      "Epoch 1/10\n",
      "\u001b[1m1/1\u001b[0m \u001b[32m━━━━━━━━━━━━━━━━━━━━\u001b[0m\u001b[37m\u001b[0m \u001b[1m1s\u001b[0m 1s/step - loss: 12.0002 - val_loss: 8.9981\n",
      "Epoch 2/10\n",
      "\u001b[1m1/1\u001b[0m \u001b[32m━━━━━━━━━━━━━━━━━━━━\u001b[0m\u001b[37m\u001b[0m \u001b[1m0s\u001b[0m 90ms/step - loss: 11.9983 - val_loss: 8.9977\n",
      "Epoch 3/10\n",
      "\u001b[1m1/1\u001b[0m \u001b[32m━━━━━━━━━━━━━━━━━━━━\u001b[0m\u001b[37m\u001b[0m \u001b[1m0s\u001b[0m 88ms/step - loss: 11.9964 - val_loss: 8.9973\n",
      "Epoch 4/10\n",
      "\u001b[1m1/1\u001b[0m \u001b[32m━━━━━━━━━━━━━━━━━━━━\u001b[0m\u001b[37m\u001b[0m \u001b[1m0s\u001b[0m 100ms/step - loss: 11.9946 - val_loss: 8.9969\n",
      "Epoch 5/10\n",
      "\u001b[1m1/1\u001b[0m \u001b[32m━━━━━━━━━━━━━━━━━━━━\u001b[0m\u001b[37m\u001b[0m \u001b[1m0s\u001b[0m 90ms/step - loss: 11.9927 - val_loss: 8.9964\n",
      "Epoch 6/10\n",
      "\u001b[1m1/1\u001b[0m \u001b[32m━━━━━━━━━━━━━━━━━━━━\u001b[0m\u001b[37m\u001b[0m \u001b[1m0s\u001b[0m 89ms/step - loss: 11.9908 - val_loss: 8.9960\n",
      "Epoch 7/10\n",
      "\u001b[1m1/1\u001b[0m \u001b[32m━━━━━━━━━━━━━━━━━━━━\u001b[0m\u001b[37m\u001b[0m \u001b[1m0s\u001b[0m 84ms/step - loss: 11.9889 - val_loss: 8.9956\n",
      "Epoch 8/10\n",
      "\u001b[1m1/1\u001b[0m \u001b[32m━━━━━━━━━━━━━━━━━━━━\u001b[0m\u001b[37m\u001b[0m \u001b[1m0s\u001b[0m 100ms/step - loss: 11.9870 - val_loss: 8.9951\n",
      "Epoch 9/10\n",
      "\u001b[1m1/1\u001b[0m \u001b[32m━━━━━━━━━━━━━━━━━━━━\u001b[0m\u001b[37m\u001b[0m \u001b[1m0s\u001b[0m 92ms/step - loss: 11.9850 - val_loss: 8.9947\n",
      "Epoch 10/10\n",
      "\u001b[1m1/1\u001b[0m \u001b[32m━━━━━━━━━━━━━━━━━━━━\u001b[0m\u001b[37m\u001b[0m \u001b[1m0s\u001b[0m 86ms/step - loss: 11.9831 - val_loss: 8.9942\n"
     ]
    },
    {
     "data": {
      "text/plain": [
       "<keras.src.callbacks.history.History at 0x22f33b745d0>"
      ]
     },
     "execution_count": 17,
     "metadata": {},
     "output_type": "execute_result"
    }
   ],
   "source": [
    "#train test\n",
    "num_users=5\n",
    "num_items=6\n",
    "embedding_dim = 8\n",
    "model= create_model(num_users,num_items,embedding_dim)\n",
    "model.fit([user_ids_train,items_id_train],ratings_train,epochs=10,verbose=1, validation_split =0.1)"
   ]
  },
  {
   "cell_type": "code",
   "execution_count": 19,
   "metadata": {},
   "outputs": [
    {
     "name": "stdout",
     "output_type": "stream",
     "text": [
      "\u001b[1m1/1\u001b[0m \u001b[32m━━━━━━━━━━━━━━━━━━━━\u001b[0m\u001b[37m\u001b[0m \u001b[1m0s\u001b[0m 38ms/step - loss: 8.5005\n"
     ]
    },
    {
     "data": {
      "text/plain": [
       "8.50054931640625"
      ]
     },
     "execution_count": 19,
     "metadata": {},
     "output_type": "execute_result"
    }
   ],
   "source": [
    "loss = model.evaluate([user_ids_test,_items_id_test],ratings_test)\n",
    "loss"
   ]
  },
  {
   "cell_type": "code",
   "execution_count": 22,
   "metadata": {},
   "outputs": [
    {
     "name": "stdout",
     "output_type": "stream",
     "text": [
      "\u001b[1m1/1\u001b[0m \u001b[32m━━━━━━━━━━━━━━━━━━━━\u001b[0m\u001b[37m\u001b[0m \u001b[1m0s\u001b[0m 32ms/step\n",
      "Predicted rating for user: 0, item:  5,prediction: -0.0034220051020383835\n"
     ]
    }
   ],
   "source": [
    "user_id = np.array([0])\n",
    "item_id = np.array([5])\n",
    "prediction = model.predict([user_id,item_id])\n",
    "\n",
    "print(f\"Predicted rating for user: {user_id[0]}, item:  {item_id[0]},prediction: {prediction[0][0]}\")"
   ]
  },
  {
   "cell_type": "markdown",
   "metadata": {},
   "source": [
    "MAKİNE ÖĞRENİMİ"
   ]
  },
  {
   "cell_type": "code",
   "execution_count": null,
   "metadata": {},
   "outputs": [
    {
     "name": "stdout",
     "output_type": "stream",
     "text": [
      "Dataset ml-100k could not be found. Do you want to download it? [Y/n] Trying to download dataset from https://files.grouplens.org/datasets/movielens/ml-100k.zip...\n",
      "Done! Dataset ml-100k has been saved to C:\\Users\\kezer/.surprise_data/ml-100k\n"
     ]
    }
   ],
   "source": [
    "from surprise import Dataset, KNNBasic,accuracy\n",
    "from surprise.model_selection import train_test_split\n",
    "\n",
    "#import versi seti\n",
    "data = Dataset.load_builtin(\"ml-100k\") #kullanıcı_id,film_id, puan"
   ]
  },
  {
   "cell_type": "code",
   "execution_count": 27,
   "metadata": {},
   "outputs": [],
   "source": [
    "#train test split\n",
    "trainset, testset= train_test_split(data,test_size=0.2)"
   ]
  },
  {
   "cell_type": "code",
   "execution_count": 30,
   "metadata": {},
   "outputs": [
    {
     "name": "stdout",
     "output_type": "stream",
     "text": [
      "Computing the cosine similarity matrix...\n",
      "Done computing similarity matrix.\n",
      "RMSE: 1.0180\n"
     ]
    },
    {
     "data": {
      "text/plain": [
       "1.0179867437324714"
      ]
     },
     "execution_count": 30,
     "metadata": {},
     "output_type": "execute_result"
    }
   ],
   "source": [
    "#Ml model create: KNN\n",
    "model_options = {\n",
    "    \"name\":\"cosine\",\n",
    "    \"user_based\":True #kullanıcı arası benzerlik\n",
    "}\n",
    "\n",
    "#train\n",
    "model = KNNBasic(sim_options=model_options)\n",
    "model.fit(trainset)\n",
    "\n",
    "#test\n",
    "prediction = model.test(testset)\n",
    "accuracy.rmse(prediction)"
   ]
  },
  {
   "cell_type": "code",
   "execution_count": 31,
   "metadata": {},
   "outputs": [],
   "source": [
    "#recommendation systme\n",
    "def get_top_n(predictions, n=10):\n",
    "\n",
    "    top_n = {}\n",
    "\n",
    "    for uid, iid, true_r, est, _ in predictions:\n",
    "        if not top_n.get(uid):\n",
    "            top_n[uid] =[]\n",
    "        top_n[uid].append((iid,est))\n",
    "\n",
    "    for uid, user_ratings in top_n.items():\n",
    "        user_ratings.sort(key = lambda x: x[1],reverse= True)\n",
    "        top_n[uid] = user_ratings[:n]\n",
    "    \n",
    "    return top_n\n"
   ]
  },
  {
   "cell_type": "code",
   "execution_count": 32,
   "metadata": {},
   "outputs": [
    {
     "name": "stdout",
     "output_type": "stream",
     "text": [
      "top 5 recommendation for user 2\n",
      "item: 272, score:4.299394180633609\n",
      "item: 50, score:4.225312863950581\n",
      "item: 258, score:4.02501435006938\n",
      "item: 10, score:3.9271081909206744\n",
      "item: 283, score:3.8748093941465567\n"
     ]
    }
   ],
   "source": [
    "n=5\n",
    "top_n = get_top_n(prediction,n)\n",
    "\n",
    "user_id= \"2\"\n",
    "\n",
    "print(f\"top {n} recommendation for user {user_id}\")\n",
    "for item_id,rating in top_n[user_id]:\n",
    "    print(f\"item: {item_id}, score:{rating}\")"
   ]
  }
 ],
 "metadata": {
  "kernelspec": {
   "display_name": "Python 3",
   "language": "python",
   "name": "python3"
  },
  "language_info": {
   "codemirror_mode": {
    "name": "ipython",
    "version": 3
   },
   "file_extension": ".py",
   "mimetype": "text/x-python",
   "name": "python",
   "nbconvert_exporter": "python",
   "pygments_lexer": "ipython3",
   "version": "3.11.0"
  }
 },
 "nbformat": 4,
 "nbformat_minor": 2
}
