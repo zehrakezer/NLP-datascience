{
 "cells": [
  {
   "cell_type": "code",
   "execution_count": 1,
   "metadata": {},
   "outputs": [],
   "source": [
    "import openai"
   ]
  },
  {
   "cell_type": "code",
   "execution_count": null,
   "metadata": {},
   "outputs": [],
   "source": [
    "openai.api_key =\"api_key\"\n",
    "\n",
    "def chat_with_gpt(prompt, history_list):\n",
    "\n",
    "    response = openai.ChatCompletion.create(\n",
    "        model = \"gpt-3.5-turbo\"\n",
    "        messages = [{\"role\":\"user\", \"content\": f\"bu bizim mesajımız: {prompt}. konuşma geçmişi: {history_list}\"}]\n",
    "\n",
    "    )\n",
    "    return response.choices[0].message.content.strip()\n",
    "\n",
    "if __name__== \"__main__\":\n",
    "    history_list = []\n",
    "\n",
    "    while True:\n",
    "        user_input = input(\"kullanıcı tarafınfan girilen mesaj:\")\n",
    "\n",
    "        if user_input.lower() in [\"exit\",\"q\"]:\n",
    "            print(\"konuima tamamlandı\")\n",
    "            break\n",
    "        history_list.append(user_input)\n",
    "        responce = chat_with_gpt(user_input,history_list)\n",
    "        print(\"chatbıt: {responce}\")"
   ]
  },
  {
   "cell_type": "code",
   "execution_count": null,
   "metadata": {},
   "outputs": [],
   "source": [
    "#https://platform.openai.com/api-keys"
   ]
  }
 ],
 "metadata": {
  "kernelspec": {
   "display_name": "Python 3",
   "language": "python",
   "name": "python3"
  },
  "language_info": {
   "codemirror_mode": {
    "name": "ipython",
    "version": 3
   },
   "file_extension": ".py",
   "mimetype": "text/x-python",
   "name": "python",
   "nbconvert_exporter": "python",
   "pygments_lexer": "ipython3",
   "version": "3.11.9"
  }
 },
 "nbformat": 4,
 "nbformat_minor": 2
}
